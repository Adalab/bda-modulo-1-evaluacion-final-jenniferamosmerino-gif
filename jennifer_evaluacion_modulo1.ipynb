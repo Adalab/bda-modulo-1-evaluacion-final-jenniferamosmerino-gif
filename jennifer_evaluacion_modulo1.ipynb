{
 "cells": [
  {
   "cell_type": "markdown",
   "id": "38eac884",
   "metadata": {},
   "source": [
    "## Evaluación Modulo 1 Data Analytics\n",
    "-------------------------------------"
   ]
  },
  {
   "cell_type": "markdown",
   "id": "fdcfd2c0",
   "metadata": {},
   "source": [
    "#### Estructura"
   ]
  },
  {
   "cell_type": "code",
   "execution_count": 91,
   "id": "6c12847e",
   "metadata": {},
   "outputs": [],
   "source": [
    "## 1. inventario (lista)\n",
    "\n",
    "inventario = []"
   ]
  },
  {
   "cell_type": "code",
   "execution_count": 92,
   "id": "285cfb64",
   "metadata": {},
   "outputs": [],
   "source": [
    "## 2. clientes (diccionario)\n",
    "\n",
    "clientes = {}"
   ]
  },
  {
   "cell_type": "code",
   "execution_count": 93,
   "id": "e4ecbd95",
   "metadata": {},
   "outputs": [],
   "source": [
    "## ventas_totales (float)\n",
    "\n",
    "ventas_totales = 0.0"
   ]
  },
  {
   "cell_type": "markdown",
   "id": "8f02ae1a",
   "metadata": {},
   "source": [
    "#### Funciones"
   ]
  },
  {
   "cell_type": "code",
   "execution_count": 95,
   "id": "e5b53073",
   "metadata": {},
   "outputs": [],
   "source": [
    "## 1. agregar_producto (nombre, precio, cantidad)\n",
    "\n",
    "def agregar_producto(nombre, precio, cantidad): ## defino función\n",
    "    for producto in inventario: ## para un producto del inventario\n",
    "        if producto[\"nombre\"] == nombre:  #si el nombre del producto del inv. es igual al nbr del nuevo producto que le damos\n",
    "            producto[\"cantidad\"] += cantidad # la cantidad del prroducto del inv actualiza su cantidad sumando la del nuevo producto\n",
    "            return f\"inventario actualizado\" #nos retorna un mensaje de actualizado\n",
    "    \n",
    "    nuevo_producto = {\"nombre\": nombre,  # establecemos paametros del nuevo producto ¡¡¡si el bucle for de antes no dio resultado!!!\n",
    "                      \"precio\": precio,\n",
    "                      \"cantidad\": cantidad}\n",
    "    inventario.append(nuevo_producto) ## lo introducimos en el iccionario\n",
    "    return f\"producto correctamente añadido a inventario\" ## retorna mensaje\n"
   ]
  },
  {
   "cell_type": "code",
   "execution_count": 123,
   "id": "af660aa9",
   "metadata": {},
   "outputs": [
    {
     "data": {
      "text/plain": [
       "'producto correctamente añadido a inventario'"
      ]
     },
     "execution_count": 123,
     "metadata": {},
     "output_type": "execute_result"
    }
   ],
   "source": [
    "agregar_producto(\"pantalón\", 15, 10)"
   ]
  },
  {
   "cell_type": "code",
   "execution_count": 124,
   "id": "d437a247",
   "metadata": {},
   "outputs": [
    {
     "data": {
      "text/plain": [
       "[{'nombre': 'bolso', 'precio': 10, 'cantidad': 20},\n",
       " {'nombre': 'camisa', 'precio': 30, 'cantidad': 40},\n",
       " {'nombre': 'pantalón', 'precio': 15, 'cantidad': 10}]"
      ]
     },
     "execution_count": 124,
     "metadata": {},
     "output_type": "execute_result"
    }
   ],
   "source": [
    "inventario"
   ]
  },
  {
   "cell_type": "code",
   "execution_count": 100,
   "id": "dd5a6610",
   "metadata": {},
   "outputs": [],
   "source": [
    "## 2. ver_inventario()\n",
    "\n",
    "def ver_inventario():\n",
    "    inventario_total = [] #variable para volcar la nueva lista con strings\n",
    "    for producto in inventario:\n",
    "        precio_dolar = f\"${producto[\"precio\"]}\" #precio con string &\n",
    "        inventario_total.append({     ## introduces cada diccionario con sting en lista nueva\n",
    "            \"Nombre\": producto[\"nombre\"],\n",
    "            \"Precio\": precio_dolar,  #string + precio\n",
    "            \"Cantidad\": producto[\"cantidad\"]  \n",
    "        })\n",
    "    return inventario_total"
   ]
  },
  {
   "cell_type": "code",
   "execution_count": 125,
   "id": "7de7e962",
   "metadata": {},
   "outputs": [
    {
     "data": {
      "text/plain": [
       "[{'Nombre': 'bolso', 'Precio': '$10', 'Cantidad': 20},\n",
       " {'Nombre': 'camisa', 'Precio': '$30', 'Cantidad': 40},\n",
       " {'Nombre': 'pantalón', 'Precio': '$15', 'Cantidad': 10}]"
      ]
     },
     "execution_count": 125,
     "metadata": {},
     "output_type": "execute_result"
    }
   ],
   "source": [
    "ver_inventario()"
   ]
  },
  {
   "cell_type": "code",
   "execution_count": 120,
   "id": "92240a8b",
   "metadata": {},
   "outputs": [],
   "source": [
    "## 3. producto(nombre)\n",
    "\n",
    "def producto(nombre):\n",
    "    productos = []\n",
    "    for producto in inventario:\n",
    "        if producto[\"nombre\"] == nombre:\n",
    "            precio_dolar = f\"${producto[\"precio\"]}\"\n",
    "            productos.append({\"Nombre\": producto[\"nombre\"],\n",
    "            \"Precio\": precio_dolar,  \n",
    "            \"Cantidad\": producto[\"cantidad\"]})\n",
    "            return productos\n",
    "    else:\n",
    "        return f\"producto {nombre} no encontrado\"\n",
    "           \n",
    "\n",
    "\n"
   ]
  },
  {
   "cell_type": "code",
   "execution_count": 126,
   "id": "e1550f13",
   "metadata": {},
   "outputs": [
    {
     "data": {
      "text/plain": [
       "[{'Nombre': 'pantalón', 'Precio': '$15', 'Cantidad': 10}]"
      ]
     },
     "execution_count": 126,
     "metadata": {},
     "output_type": "execute_result"
    }
   ],
   "source": [
    "producto(\"pantalón\")"
   ]
  },
  {
   "cell_type": "code",
   "execution_count": 127,
   "id": "f19a064b",
   "metadata": {},
   "outputs": [],
   "source": [
    "## otra posibilidad buscando coincidencias parciales\n",
    "\n",
    "def producto(nombre):\n",
    "    productos = []\n",
    "    nombre_introducido = nombre.lower()\n",
    "    for producto in inventario:\n",
    "        if nombre_introducido in producto[\"nombre\"].lower():\n",
    "            precio_dolar = f\"${producto[\"precio\"]}\"\n",
    "            productos.append({\"Nombre\": producto[\"nombre\"],\n",
    "            \"Precio\": precio_dolar,  \n",
    "            \"Cantidad\": producto[\"cantidad\"]})\n",
    "            return productos\n",
    "    else:\n",
    "        return f\"producto {nombre} no encontrado\""
   ]
  },
  {
   "cell_type": "code",
   "execution_count": 129,
   "id": "7013ae92",
   "metadata": {},
   "outputs": [
    {
     "data": {
      "text/plain": [
       "[{'Nombre': 'bolso', 'Precio': '$10', 'Cantidad': 20}]"
      ]
     },
     "execution_count": 129,
     "metadata": {},
     "output_type": "execute_result"
    }
   ],
   "source": [
    "producto(\"bol\")"
   ]
  },
  {
   "cell_type": "code",
   "execution_count": null,
   "id": "4ae7fb90",
   "metadata": {},
   "outputs": [],
   "source": [
    "## 4. actualizar_stock(nombre, cantidad)\n",
    "\n",
    "def actualizacion_stock(nombre, cantidad):\n",
    "    for producto in inventario: \n",
    "        if producto[\"nombre\"] == nombre:\n",
    "           producto[\"cantidad\"] += cantidad\n",
    "           return f\"stock de {nombre} actualizado\"\n",
    "            \n",
    "    else:\n",
    "        return f\"El producto {nombre} no está en el inventario\" ### cuidar la indentación del else o no habrá bucle :("
   ]
  },
  {
   "cell_type": "code",
   "execution_count": 143,
   "id": "a3ed807e",
   "metadata": {},
   "outputs": [
    {
     "data": {
      "text/plain": [
       "[{'nombre': 'bolso', 'precio': 10, 'cantidad': 45},\n",
       " {'nombre': 'camisa', 'precio': 30, 'cantidad': 51},\n",
       " {'nombre': 'pantalón', 'precio': 15, 'cantidad': 30}]"
      ]
     },
     "execution_count": 143,
     "metadata": {},
     "output_type": "execute_result"
    }
   ],
   "source": [
    "inventario"
   ]
  },
  {
   "cell_type": "code",
   "execution_count": 142,
   "id": "27bd981b",
   "metadata": {},
   "outputs": [
    {
     "data": {
      "text/plain": [
       "'stock de camisa actualizado'"
      ]
     },
     "execution_count": 142,
     "metadata": {},
     "output_type": "execute_result"
    }
   ],
   "source": [
    "actualizacion_stock(\"camisa\", 11)"
   ]
  },
  {
   "cell_type": "code",
   "execution_count": null,
   "id": "620fe478",
   "metadata": {},
   "outputs": [],
   "source": [
    "## con un imput?"
   ]
  },
  {
   "cell_type": "code",
   "execution_count": 144,
   "id": "76764214",
   "metadata": {},
   "outputs": [],
   "source": [
    "## 5. eliminar_producto(nombre)\n",
    "\n",
    "def eliminar_producto(nombre):\n",
    "    for producto in inventario: \n",
    "        if producto[\"nombre\"] == nombre:\n",
    "            inventario.remove(producto)\n",
    "            return f\"el producto {nombre} ha sido eliminado del inventario\"\n",
    "    \n",
    "    else:\n",
    "        return f\"producto no encontrado\""
   ]
  },
  {
   "cell_type": "code",
   "execution_count": 147,
   "id": "9eac9a7d",
   "metadata": {},
   "outputs": [
    {
     "data": {
      "text/plain": [
       "[{'nombre': 'bolso', 'precio': 10, 'cantidad': 45},\n",
       " {'nombre': 'camisa', 'precio': 30, 'cantidad': 51}]"
      ]
     },
     "execution_count": 147,
     "metadata": {},
     "output_type": "execute_result"
    }
   ],
   "source": [
    "inventario"
   ]
  },
  {
   "cell_type": "code",
   "execution_count": 148,
   "id": "40842b81",
   "metadata": {},
   "outputs": [
    {
     "data": {
      "text/plain": [
       "'producto no encontrado'"
      ]
     },
     "execution_count": 148,
     "metadata": {},
     "output_type": "execute_result"
    }
   ],
   "source": [
    "eliminar_producto(\"pantalón\")"
   ]
  },
  {
   "cell_type": "code",
   "execution_count": 157,
   "id": "003cb6c6",
   "metadata": {},
   "outputs": [],
   "source": [
    "## 6. calcular_valor_inventario()\n",
    "\n",
    "def calcular_valor_inventario():\n",
    "    for producto in inventario:\n",
    "        valor_total = sum(producto[\"cantidad\"]*producto[\"precio\"] for producto in inventario)\n",
    "       \n",
    "        return f\"El valor total del inventario es &{valor_total}\""
   ]
  },
  {
   "cell_type": "code",
   "execution_count": 158,
   "id": "8ae3c54d",
   "metadata": {},
   "outputs": [
    {
     "data": {
      "text/plain": [
       "'El valor total del inventario es &1980'"
      ]
     },
     "execution_count": 158,
     "metadata": {},
     "output_type": "execute_result"
    }
   ],
   "source": [
    "calcular_valor_inventario()"
   ]
  },
  {
   "cell_type": "code",
   "execution_count": null,
   "id": "3bcc67c5",
   "metadata": {},
   "outputs": [],
   "source": [
    "## 7.realizar_compra()\n",
    "\n",
    "def realizar_compra():\n",
    "    "
   ]
  }
 ],
 "metadata": {
  "kernelspec": {
   "display_name": "base",
   "language": "python",
   "name": "python3"
  },
  "language_info": {
   "codemirror_mode": {
    "name": "ipython",
    "version": 3
   },
   "file_extension": ".py",
   "mimetype": "text/x-python",
   "name": "python",
   "nbconvert_exporter": "python",
   "pygments_lexer": "ipython3",
   "version": "3.13.5"
  }
 },
 "nbformat": 4,
 "nbformat_minor": 5
}
