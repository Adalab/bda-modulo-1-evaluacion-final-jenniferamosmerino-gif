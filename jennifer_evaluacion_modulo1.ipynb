{
 "cells": [
  {
   "cell_type": "markdown",
   "id": "38eac884",
   "metadata": {},
   "source": [
    "## Evaluación Modulo 1 Data Analytics\n",
    "-------------------------------------"
   ]
  },
  {
   "cell_type": "markdown",
   "id": "fdcfd2c0",
   "metadata": {},
   "source": [
    "#### Estructura"
   ]
  },
  {
   "cell_type": "code",
   "execution_count": 55,
   "id": "6c12847e",
   "metadata": {},
   "outputs": [],
   "source": [
    "## 1. inventario (lista)\n",
    "\n",
    "inventario = []"
   ]
  },
  {
   "cell_type": "code",
   "execution_count": 56,
   "id": "285cfb64",
   "metadata": {},
   "outputs": [],
   "source": [
    "## 2. clientes (diccionario)\n",
    "\n",
    "clientes = {}"
   ]
  },
  {
   "cell_type": "code",
   "execution_count": 57,
   "id": "e4ecbd95",
   "metadata": {},
   "outputs": [],
   "source": [
    "## ventas_totales (float)\n",
    "\n",
    "ventas_totales = 0.0"
   ]
  },
  {
   "cell_type": "markdown",
   "id": "8f02ae1a",
   "metadata": {},
   "source": [
    "#### Funciones"
   ]
  },
  {
   "cell_type": "code",
   "execution_count": 58,
   "id": "e5b53073",
   "metadata": {},
   "outputs": [],
   "source": [
    "## 1. agregar_producto (nombre, precio, cantidad)\n",
    "\n",
    "def agregar_producto(nombre, precio, cantidad): ## defino función\n",
    "    for producto in inventario: ## para un producto del inventario\n",
    "        if producto[\"nombre\"] == nombre:  #si el nombre del producto del inv. es igual al nbr del nuevo producto que le damos\n",
    "            producto[\"cantidad\"] += cantidad # la cantidad del prroducto del inv actualiza su cantidad sumando la del nuevo producto\n",
    "            return f\"Inventario actualizado.\" #nos retorna un mensaje de actualizado\n",
    "\n",
    "    nuevo_producto = {\"nombre\": nombre,  # establecemos paametros del nuevo producto ¡¡¡si el bucle for de antes no dio resultado!!!\n",
    "                      \"precio\": precio,\n",
    "                      \"cantidad\": cantidad}\n",
    "    inventario.append(nuevo_producto) ## lo introducimos en el iccionario\n",
    "    return f\"Producto correctamente añadido a inventario.\" ## retorna mensaje\n"
   ]
  },
  {
   "cell_type": "code",
   "execution_count": 59,
   "id": "af660aa9",
   "metadata": {},
   "outputs": [
    {
     "data": {
      "text/plain": [
       "'Producto correctamente añadido a inventario.'"
      ]
     },
     "execution_count": 59,
     "metadata": {},
     "output_type": "execute_result"
    }
   ],
   "source": [
    "agregar_producto(\"bolso\", 25, 10)"
   ]
  },
  {
   "cell_type": "code",
   "execution_count": 60,
   "id": "d437a247",
   "metadata": {},
   "outputs": [
    {
     "data": {
      "text/plain": [
       "[{'nombre': 'bolso', 'precio': 25, 'cantidad': 10}]"
      ]
     },
     "execution_count": 60,
     "metadata": {},
     "output_type": "execute_result"
    }
   ],
   "source": [
    "inventario"
   ]
  },
  {
   "cell_type": "code",
   "execution_count": 61,
   "id": "dd5a6610",
   "metadata": {},
   "outputs": [],
   "source": [
    "## 2. ver_inventario()\n",
    "\n",
    "def ver_inventario():\n",
    "    inventario_total = [] #variable para volcar la nueva lista con strings\n",
    "    for producto in inventario:\n",
    "        precio_dolar = f\"${producto[\"precio\"]}\" #precio con string &\n",
    "        inventario_total.append({     ## introduces cada diccionario con sting en lista nueva\n",
    "            \"Nombre\": producto[\"nombre\"],\n",
    "            \"Precio\": precio_dolar,  #string + precio\n",
    "            \"Cantidad\": producto[\"cantidad\"]  \n",
    "        })\n",
    "    return inventario_total"
   ]
  },
  {
   "cell_type": "code",
   "execution_count": 62,
   "id": "7de7e962",
   "metadata": {},
   "outputs": [
    {
     "data": {
      "text/plain": [
       "[{'Nombre': 'bolso', 'Precio': '$25', 'Cantidad': 10}]"
      ]
     },
     "execution_count": 62,
     "metadata": {},
     "output_type": "execute_result"
    }
   ],
   "source": [
    "ver_inventario()"
   ]
  },
  {
   "cell_type": "code",
   "execution_count": 63,
   "id": "92240a8b",
   "metadata": {},
   "outputs": [],
   "source": [
    "## 3. producto(nombre)\n",
    "\n",
    "def producto(nombre):\n",
    "    productos = []\n",
    "    for producto in inventario:\n",
    "        if producto[\"nombre\"] == nombre:\n",
    "            precio_dolar = f\"${producto[\"precio\"]}\"\n",
    "            productos.append({\"Nombre\": producto[\"nombre\"],\n",
    "            \"Precio\": precio_dolar,  \n",
    "            \"Cantidad\": producto[\"cantidad\"]})\n",
    "            return productos\n",
    "    else:\n",
    "        return f\"Producto {nombre} no encontrado.\"\n",
    "           \n",
    "\n",
    "\n"
   ]
  },
  {
   "cell_type": "code",
   "execution_count": 64,
   "id": "e1550f13",
   "metadata": {},
   "outputs": [
    {
     "data": {
      "text/plain": [
       "'Producto pantalón no encontrado.'"
      ]
     },
     "execution_count": 64,
     "metadata": {},
     "output_type": "execute_result"
    }
   ],
   "source": [
    "producto(\"pantalón\")"
   ]
  },
  {
   "cell_type": "code",
   "execution_count": 65,
   "id": "f19a064b",
   "metadata": {},
   "outputs": [],
   "source": [
    "## otra posibilidad buscando coincidencias parciales\n",
    "\n",
    "def producto(nombre):\n",
    "    productos = []\n",
    "    nombre_introducido = nombre.lower()\n",
    "    for producto in inventario:\n",
    "        if nombre_introducido in producto[\"nombre\"].lower():\n",
    "            precio_dolar = f\"${producto[\"precio\"]}\"\n",
    "            productos.append({\"Nombre\": producto[\"nombre\"],\n",
    "            \"Precio\": precio_dolar,  \n",
    "            \"Cantidad\": producto[\"cantidad\"]})\n",
    "            return productos\n",
    "    else:\n",
    "        return f\"Producto {nombre} no encontrado.\""
   ]
  },
  {
   "cell_type": "code",
   "execution_count": 66,
   "id": "7013ae92",
   "metadata": {},
   "outputs": [
    {
     "data": {
      "text/plain": [
       "[{'Nombre': 'bolso', 'Precio': '$25', 'Cantidad': 10}]"
      ]
     },
     "execution_count": 66,
     "metadata": {},
     "output_type": "execute_result"
    }
   ],
   "source": [
    "producto(\"bol\")"
   ]
  },
  {
   "cell_type": "code",
   "execution_count": 67,
   "id": "fce79c27",
   "metadata": {},
   "outputs": [],
   "source": [
    "## fusión de ambas:\n",
    "\n",
    "def producto(nombre):\n",
    "    productos = []\n",
    "    nombre_introducido = nombre.lower()\n",
    "    for producto in inventario:\n",
    "        if producto[\"nombre\"] == nombre:\n",
    "            precio_dolar = f\"${producto[\"precio\"]}\"\n",
    "            productos.append({\"Nombre\": producto[\"nombre\"],\n",
    "            \"Precio\": precio_dolar,  \n",
    "            \"Cantidad\": producto[\"cantidad\"]})\n",
    "            return productos\n",
    "        elif nombre_introducido in producto[\"nombre\"].lower():\n",
    "            precio_dolar = f\"${producto[\"precio\"]}\"\n",
    "            productos.append({\"Nombre\": producto[\"nombre\"],\n",
    "            \"Precio\": precio_dolar,  \n",
    "            \"Cantidad\": producto[\"cantidad\"]})\n",
    "            return (f\"Quizás quiso decir {productos}\")\n",
    "    else:\n",
    "        return f\"Producto {nombre} no encontrado.\"\n",
    "           "
   ]
  },
  {
   "cell_type": "code",
   "execution_count": 88,
   "id": "43dd0d61",
   "metadata": {},
   "outputs": [
    {
     "data": {
      "text/plain": [
       "\"Quizás quiso decir [{'Nombre': 'bolso', 'Precio': '$10', 'Cantidad': 15}]\""
      ]
     },
     "execution_count": 88,
     "metadata": {},
     "output_type": "execute_result"
    }
   ],
   "source": [
    "producto(\"bol\")"
   ]
  },
  {
   "cell_type": "code",
   "execution_count": 69,
   "id": "4ae7fb90",
   "metadata": {},
   "outputs": [],
   "source": [
    "## 4. actualizar_stock(nombre, cantidad)\n",
    "\n",
    "def actualizacion_stock(nombre, cantidad):\n",
    "    for producto in inventario: \n",
    "        if producto[\"nombre\"] == nombre:\n",
    "           producto[\"cantidad\"] += cantidad\n",
    "           return f\"stock de {nombre} actualizado\"\n",
    "            \n",
    "    else:\n",
    "        return f\"El producto {nombre} no está en el inventario.\" ### cuidar la indentación del else o no habrá bucle :("
   ]
  },
  {
   "cell_type": "code",
   "execution_count": 70,
   "id": "a3ed807e",
   "metadata": {},
   "outputs": [
    {
     "data": {
      "text/plain": [
       "[{'nombre': 'bolso', 'precio': 25, 'cantidad': 10}]"
      ]
     },
     "execution_count": 70,
     "metadata": {},
     "output_type": "execute_result"
    }
   ],
   "source": [
    "inventario"
   ]
  },
  {
   "cell_type": "code",
   "execution_count": 71,
   "id": "27bd981b",
   "metadata": {},
   "outputs": [
    {
     "data": {
      "text/plain": [
       "'El producto camisa no está en el inventario.'"
      ]
     },
     "execution_count": 71,
     "metadata": {},
     "output_type": "execute_result"
    }
   ],
   "source": [
    "actualizacion_stock(\"camisa\", 11)"
   ]
  },
  {
   "cell_type": "code",
   "execution_count": 72,
   "id": "76764214",
   "metadata": {},
   "outputs": [],
   "source": [
    "## 5. eliminar_producto(nombre)\n",
    "\n",
    "def eliminar_producto(nombre):\n",
    "    for producto in inventario: \n",
    "        if producto[\"nombre\"] == nombre:\n",
    "            inventario.remove(producto)\n",
    "            return f\"El producto {nombre} ha sido eliminado del inventario.\"\n",
    "    \n",
    "    else:\n",
    "        return f\"Producto no encontrado.\""
   ]
  },
  {
   "cell_type": "code",
   "execution_count": 73,
   "id": "9eac9a7d",
   "metadata": {},
   "outputs": [
    {
     "data": {
      "text/plain": [
       "[{'nombre': 'bolso', 'precio': 25, 'cantidad': 10}]"
      ]
     },
     "execution_count": 73,
     "metadata": {},
     "output_type": "execute_result"
    }
   ],
   "source": [
    "inventario"
   ]
  },
  {
   "cell_type": "code",
   "execution_count": null,
   "id": "40842b81",
   "metadata": {},
   "outputs": [
    {
     "data": {
      "text/plain": [
       "'Producto no encontrado.'"
      ]
     },
     "execution_count": 74,
     "metadata": {},
     "output_type": "execute_result"
    }
   ],
   "source": [
    "eliminar_producto(\"pantalón\")"
   ]
  },
  {
   "cell_type": "code",
   "execution_count": 75,
   "id": "003cb6c6",
   "metadata": {},
   "outputs": [],
   "source": [
    "## 6. calcular_valor_inventario()\n",
    "\n",
    "def calcular_valor_inventario():\n",
    "    for producto in inventario:\n",
    "        valor_total = sum(producto[\"cantidad\"]*producto[\"precio\"] for producto in inventario )\n",
    "       \n",
    "        return f\"El valor total del inventario es : &{valor_total}\""
   ]
  },
  {
   "cell_type": "code",
   "execution_count": 76,
   "id": "8ae3c54d",
   "metadata": {},
   "outputs": [
    {
     "data": {
      "text/plain": [
       "'El valor total del inventario es : &250'"
      ]
     },
     "execution_count": 76,
     "metadata": {},
     "output_type": "execute_result"
    }
   ],
   "source": [
    "calcular_valor_inventario()"
   ]
  },
  {
   "cell_type": "code",
   "execution_count": 77,
   "id": "ab199ed4",
   "metadata": {},
   "outputs": [],
   "source": [
    "inventario = [\n",
    "    {\"nombre\": \"camisa\", \"precio\": 15.5, \"cantidad\": 10},\n",
    "    {\"nombre\": \"bolso\", \"precio\": 10, \"cantidad\": 15},\n",
    "    {\"nombre\": \"pantalón\", \"precio\": 25.2, \"cantidad\": 5}\n",
    "]"
   ]
  },
  {
   "cell_type": "code",
   "execution_count": 78,
   "id": "9effef85",
   "metadata": {},
   "outputs": [],
   "source": [
    "## 7. realizar_compra()\n",
    "\n",
    "def realizar_compra(inventario):\n",
    "\n",
    "    carrito = []\n",
    "    total = 0.0\n",
    "    while True:\n",
    "        print(\"Inventaio disponible:\")\n",
    "        for producto in inventario:\n",
    "            print (f\"{producto[\"nombre\"]} - ${producto[\"precio\"]} - Stock: {producto[\"cantidad\"]}\")\n",
    "\n",
    "        nombre_producto = input(\"Ingrese el nombre del producto que desea comprar (o salir para finalizar): \").strip().lower()\n",
    "\n",
    "        if nombre_producto == \"salir\":\n",
    "            break\n",
    "\n",
    "        producto_encontrado= []  ## tambien se podría usar if not producto_encontrado\n",
    "        for producto in inventario:\n",
    "            if producto[\"nombre\"].lower() == nombre_producto:\n",
    "                producto_encontrado = producto ## crear atajo a inventario para trabajar fuera del bucle for\n",
    "                break\n",
    "\n",
    "        if producto_encontrado == []:  ## si la lista producto_encontrado está vacía\n",
    "            print(\"Producto no encontrado, intentelo nuevamente.\")\n",
    "            continue\n",
    "        if producto_encontrado[\"cantidad\"] == 0:\n",
    "            print(\"Lo sentimos, producto agotado.\")\n",
    "\n",
    "        try:\n",
    "            cantidad_deseada = int(input(f\"Ingrese la cantidad de {producto_encontrado[\"nombre\"]} que desea comprar:\"))\n",
    "        except ValueError:\n",
    "            print(\" Cantidad inválida. Por favor, inténtelo de nuevo.\")\n",
    "            continue\n",
    "\n",
    "        carrito.append({\"nombre\": producto_encontrado[\"nombre\"],\n",
    "                        \"precio_unitario\": producto_encontrado[\"precio\"],\n",
    "                        \"cantidad\": cantidad_deseada,\n",
    "                        \"subtotal\": producto_encontrado[\"precio\"] * cantidad_deseada\n",
    "                        })\n",
    "        \n",
    "        producto_encontrado[\"cantidad\"] -= cantidad_deseada ## resto cantidad y cantidad deseada para actualizar inventario\n",
    "        print(f\"Se agregó {cantidad_deseada} x {producto_encontrado[\"nombre\"]} al carito.\")\n",
    "\n",
    "    print(\"Resumen de compra.\")\n",
    "    for item in carrito:\n",
    "        print(f\"{item[\"cantidad\"]} x {item[\"nombre\"]} - &{round(item[\"subtotal\"], 2)}\")\n",
    "        total += item[\"subtotal\"]\n",
    "\n",
    "    print(f\"Total a pagar: ${round(total, 2)}\")\n",
    "\n"
   ]
  },
  {
   "cell_type": "code",
   "execution_count": 79,
   "id": "62fc1c7b",
   "metadata": {},
   "outputs": [
    {
     "name": "stdout",
     "output_type": "stream",
     "text": [
      "Inventaio disponible:\n",
      "camisa - $15.5 - Stock: 10\n",
      "bolso - $10 - Stock: 15\n",
      "pantalón - $25.2 - Stock: 5\n",
      "Se agregó 1 x camisa al carito.\n",
      "Inventaio disponible:\n",
      "camisa - $15.5 - Stock: 9\n",
      "bolso - $10 - Stock: 15\n",
      "pantalón - $25.2 - Stock: 5\n",
      "Se agregó 2 x pantalón al carito.\n",
      "Inventaio disponible:\n",
      "camisa - $15.5 - Stock: 9\n",
      "bolso - $10 - Stock: 15\n",
      "pantalón - $25.2 - Stock: 3\n",
      "Producto no encontrado, intentelo nuevamente.\n",
      "Inventaio disponible:\n",
      "camisa - $15.5 - Stock: 9\n",
      "bolso - $10 - Stock: 15\n",
      "pantalón - $25.2 - Stock: 3\n",
      "Resumen de compra.\n",
      "1 x camisa - &15.5\n",
      "2 x pantalón - &50.4\n",
      "Total a pagar: $65.9\n"
     ]
    }
   ],
   "source": [
    "realizar_compra(inventario)"
   ]
  },
  {
   "cell_type": "markdown",
   "id": "a737e99a",
   "metadata": {},
   "source": [
    "## Ejercicios Bonus:"
   ]
  },
  {
   "cell_type": "code",
   "execution_count": 89,
   "id": "5a6c0630",
   "metadata": {},
   "outputs": [],
   "source": [
    "## 1. procesar_pago()\n",
    "\n",
    "def procesar_pago():\n",
    "   \n",
    "    try:\n",
    "\n",
    "        cantidad_total = int(input(\"Introduzca la cantidad a pagar:\"))\n",
    "        cantidad_pagada = int(input(\"Introduzca el pago realizado:\" ))\n",
    "\n",
    "        if cantidad_total > 0 and cantidad_pagada >= 0:  \n",
    "            print(f\"Debe pagar &{cantidad_total}, ha pagado &{cantidad_pagada}\")\n",
    "\n",
    "            if cantidad_total <= cantidad_pagada:\n",
    "                cambio = cantidad_pagada - cantidad_total\n",
    "                print(f\"Pago realizado con éxito. Su cambio es: &{cambio}\")\n",
    "\n",
    "            elif cantidad_total > cantidad_pagada:\n",
    "                pago_faltante = cantidad_total - cantidad_pagada\n",
    "                print(f\"Pago insuficiente, por favor, introduzca &{pago_faltante} más.\")\n",
    "       \n",
    "        else:\n",
    "            print (\"Debe introducir una cantidad numérica positiva.\")\n",
    " \n",
    "    except (ValueError, TypeError):\n",
    "        print(\"No se reconoce la cantidad añadida, por favor, introduzca una cantidad numérica positiva.\")\n"
   ]
  },
  {
   "cell_type": "code",
   "execution_count": 90,
   "id": "526590ee",
   "metadata": {},
   "outputs": [
    {
     "name": "stdout",
     "output_type": "stream",
     "text": [
      "Debe pagar &10, ha pagado &8\n",
      "Pago insuficiente, por favor, introduzca &2 más.\n"
     ]
    }
   ],
   "source": [
    "procesar_pago()"
   ]
  },
  {
   "cell_type": "code",
   "execution_count": 82,
   "id": "2ccf63d0",
   "metadata": {},
   "outputs": [],
   "source": [
    "clientes = {\"ana_alonso\": {\"email\": \"analonso@gmail.com\", \"compras\": []},\n",
    "            \"juanjo_sanz\": {\"email\": \"juanjosanz@gmail.com\", \"compras\": [] }\n",
    "            }"
   ]
  },
  {
   "cell_type": "code",
   "execution_count": 83,
   "id": "00f9596a",
   "metadata": {},
   "outputs": [
    {
     "data": {
      "text/plain": [
       "{'ana_alonso': {'email': 'analonso@gmail.com', 'compras': []},\n",
       " 'juanjo_sanz': {'email': 'juanjosanz@gmail.com', 'compras': []}}"
      ]
     },
     "execution_count": 83,
     "metadata": {},
     "output_type": "execute_result"
    }
   ],
   "source": [
    "clientes"
   ]
  },
  {
   "cell_type": "code",
   "execution_count": 84,
   "id": "13389791",
   "metadata": {},
   "outputs": [],
   "source": [
    "## 2. agregar_cliente(nombre, email)\n",
    "\n",
    "def agregar_cliente(nombre, email):\n",
    "\n",
    "    if nombre in clientes:\n",
    "        print(f\"El cliente {nombre} ya está registrado.\")\n",
    "\n",
    "    else:\n",
    "        clientes.update({nombre: {\"email\": email, \"compras\": []}})\n",
    "        print(f\"cliente {nombre} añadido con éxito.\")\n",
    "        print(clientes)"
   ]
  },
  {
   "cell_type": "code",
   "execution_count": 85,
   "id": "b073a52b",
   "metadata": {},
   "outputs": [
    {
     "name": "stdout",
     "output_type": "stream",
     "text": [
      "cliente marta_perez añadido con éxito.\n",
      "{'ana_alonso': {'email': 'analonso@gmail.com', 'compras': []}, 'juanjo_sanz': {'email': 'juanjosanz@gmail.com', 'compras': []}, 'marta_perez': {'email': 'marta_perez@gmail.com', 'compras': []}}\n"
     ]
    }
   ],
   "source": [
    "agregar_cliente('marta_perez', 'marta_perez@gmail.com')"
   ]
  },
  {
   "cell_type": "code",
   "execution_count": 86,
   "id": "046c6f2a",
   "metadata": {},
   "outputs": [],
   "source": [
    "## 3. ver_clientes()\n",
    "\n",
    "def ver_clientes():\n",
    "\n",
    "    lista_clientes = {}\n",
    "    for persona, datos_persona in clientes.items(): ## separo en dos tuplas clave valor donde persona y datos_persona seran la clave.\n",
    "        lista_clientes[persona] = datos_persona[\"email\"]\n",
    "    \n",
    "    return(lista_clientes)\n",
    "        "
   ]
  },
  {
   "cell_type": "code",
   "execution_count": 87,
   "id": "25861dd5",
   "metadata": {},
   "outputs": [
    {
     "data": {
      "text/plain": [
       "{'ana_alonso': 'analonso@gmail.com',\n",
       " 'juanjo_sanz': 'juanjosanz@gmail.com',\n",
       " 'marta_perez': 'marta_perez@gmail.com'}"
      ]
     },
     "execution_count": 87,
     "metadata": {},
     "output_type": "execute_result"
    }
   ],
   "source": [
    "ver_clientes()"
   ]
  }
 ],
 "metadata": {
  "kernelspec": {
   "display_name": "base",
   "language": "python",
   "name": "python3"
  },
  "language_info": {
   "codemirror_mode": {
    "name": "ipython",
    "version": 3
   },
   "file_extension": ".py",
   "mimetype": "text/x-python",
   "name": "python",
   "nbconvert_exporter": "python",
   "pygments_lexer": "ipython3",
   "version": "3.13.5"
  }
 },
 "nbformat": 4,
 "nbformat_minor": 5
}
