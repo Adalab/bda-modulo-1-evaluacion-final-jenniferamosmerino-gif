{
 "cells": [
  {
   "cell_type": "markdown",
   "id": "38eac884",
   "metadata": {},
   "source": [
    "## Evaluación Modulo 1 Data Analytics\n",
    "-------------------------------------"
   ]
  },
  {
   "cell_type": "markdown",
   "id": "fdcfd2c0",
   "metadata": {},
   "source": [
    "#### Estructura"
   ]
  },
  {
   "cell_type": "code",
   "execution_count": 52,
   "id": "6c12847e",
   "metadata": {},
   "outputs": [],
   "source": [
    "## 1. inventario (lista)\n",
    "\n",
    "inventario = []"
   ]
  },
  {
   "cell_type": "code",
   "execution_count": 53,
   "id": "285cfb64",
   "metadata": {},
   "outputs": [],
   "source": [
    "## 2. clientes (diccionario)\n",
    "\n",
    "clientes = {}"
   ]
  },
  {
   "cell_type": "code",
   "execution_count": 54,
   "id": "e4ecbd95",
   "metadata": {},
   "outputs": [],
   "source": [
    "## ventas_totales (float)\n",
    "\n",
    "ventas_totales = 0.0"
   ]
  },
  {
   "cell_type": "markdown",
   "id": "8f02ae1a",
   "metadata": {},
   "source": [
    "#### Funciones"
   ]
  },
  {
   "cell_type": "code",
   "execution_count": null,
   "id": "e5b53073",
   "metadata": {},
   "outputs": [],
   "source": [
    "## 1. agregar_producto (nombre, precio, cantidad)\n",
    "\n",
    "def agregar_producto(nombre, precio, cantidad): ## defino función\n",
    "    for producto in inventario: ## para un producto del inventario\n",
    "        if producto[\"nombre\"] == nombre:  #si el nombre del producto del inv. es igual al nbr del nuevo producto que le damos\n",
    "            producto[\"cantidad\"] += cantidad # la cantidad del prroducto del inv actualiza su cantidad sumando la del nuevo producto\n",
    "            return f\"inventario actualizado\" #nos retorna un mensaje de actualizado\n",
    "\n",
    "    nuevo_producto = {\"nombre\": nombre,  # establecemos paametros del nuevo producto ¡¡¡si el bucle for de antes no dio resultado!!!\n",
    "                      \"precio\": precio,\n",
    "                      \"cantidad\": cantidad}\n",
    "    inventario.append(nuevo_producto) ## lo introducimos en el iccionario\n",
    "    return f\"producto correctamente añadido a inventario\" ## retorna mensaje\n"
   ]
  },
  {
   "cell_type": "code",
   "execution_count": 76,
   "id": "af660aa9",
   "metadata": {},
   "outputs": [
    {
     "data": {
      "text/plain": [
       "'inventario actualizado'"
      ]
     },
     "execution_count": 76,
     "metadata": {},
     "output_type": "execute_result"
    }
   ],
   "source": [
    "agregar_producto(\"bolso\", 25, 10)"
   ]
  },
  {
   "cell_type": "code",
   "execution_count": 77,
   "id": "d437a247",
   "metadata": {},
   "outputs": [
    {
     "data": {
      "text/plain": [
       "[{'nombre': 'camisa', 'precio': 15.5, 'cantidad': 10},\n",
       " {'nombre': 'bolso', 'precio': 10, 'cantidad': 25},\n",
       " {'nombre': 'pantalón', 'precio': 25.2, 'cantidad': 5}]"
      ]
     },
     "execution_count": 77,
     "metadata": {},
     "output_type": "execute_result"
    }
   ],
   "source": [
    "inventario"
   ]
  },
  {
   "cell_type": "code",
   "execution_count": 58,
   "id": "dd5a6610",
   "metadata": {},
   "outputs": [],
   "source": [
    "## 2. ver_inventario()\n",
    "\n",
    "def ver_inventario():\n",
    "    inventario_total = [] #variable para volcar la nueva lista con strings\n",
    "    for producto in inventario:\n",
    "        precio_dolar = f\"${producto[\"precio\"]}\" #precio con string &\n",
    "        inventario_total.append({     ## introduces cada diccionario con sting en lista nueva\n",
    "            \"Nombre\": producto[\"nombre\"],\n",
    "            \"Precio\": precio_dolar,  #string + precio\n",
    "            \"Cantidad\": producto[\"cantidad\"]  \n",
    "        })\n",
    "    return inventario_total"
   ]
  },
  {
   "cell_type": "code",
   "execution_count": 78,
   "id": "7de7e962",
   "metadata": {},
   "outputs": [
    {
     "data": {
      "text/plain": [
       "[{'Nombre': 'camisa', 'Precio': '$15.5', 'Cantidad': 10},\n",
       " {'Nombre': 'bolso', 'Precio': '$10', 'Cantidad': 25},\n",
       " {'Nombre': 'pantalón', 'Precio': '$25.2', 'Cantidad': 5}]"
      ]
     },
     "execution_count": 78,
     "metadata": {},
     "output_type": "execute_result"
    }
   ],
   "source": [
    "ver_inventario()"
   ]
  },
  {
   "cell_type": "code",
   "execution_count": 60,
   "id": "92240a8b",
   "metadata": {},
   "outputs": [],
   "source": [
    "## 3. producto(nombre)\n",
    "\n",
    "def producto(nombre):\n",
    "    productos = []\n",
    "    for producto in inventario:\n",
    "        if producto[\"nombre\"] == nombre:\n",
    "            precio_dolar = f\"${producto[\"precio\"]}\"\n",
    "            productos.append({\"Nombre\": producto[\"nombre\"],\n",
    "            \"Precio\": precio_dolar,  \n",
    "            \"Cantidad\": producto[\"cantidad\"]})\n",
    "            return productos\n",
    "    else:\n",
    "        return f\"producto {nombre} no encontrado\"\n",
    "           \n",
    "\n",
    "\n"
   ]
  },
  {
   "cell_type": "code",
   "execution_count": 79,
   "id": "e1550f13",
   "metadata": {},
   "outputs": [
    {
     "data": {
      "text/plain": [
       "[{'Nombre': 'pantalón', 'Precio': '$25.2', 'Cantidad': 5}]"
      ]
     },
     "execution_count": 79,
     "metadata": {},
     "output_type": "execute_result"
    }
   ],
   "source": [
    "producto(\"pantalón\")"
   ]
  },
  {
   "cell_type": "code",
   "execution_count": null,
   "id": "f19a064b",
   "metadata": {},
   "outputs": [],
   "source": [
    "## otra posibilidad buscando coincidencias parciales\n",
    "\n",
    "def producto(nombre):\n",
    "    productos = []\n",
    "    nombre_introducido = nombre.lower()\n",
    "    for producto in inventario:\n",
    "        if nombre_introducido in producto[\"nombre\"].lower():\n",
    "            precio_dolar = f\"${producto[\"precio\"]}\"\n",
    "            productos.append({\"Nombre\": producto[\"nombre\"],\n",
    "            \"Precio\": precio_dolar,  \n",
    "            \"Cantidad\": producto[\"cantidad\"]})\n",
    "            return productos\n",
    "    else:\n",
    "        return f\"producto {nombre} no encontrado\""
   ]
  },
  {
   "cell_type": "code",
   "execution_count": 63,
   "id": "7013ae92",
   "metadata": {},
   "outputs": [
    {
     "data": {
      "text/plain": [
       "[{'Nombre': 'bolso', 'Precio': '$25', 'Cantidad': 10}]"
      ]
     },
     "execution_count": 63,
     "metadata": {},
     "output_type": "execute_result"
    }
   ],
   "source": [
    "producto(\"bol\")"
   ]
  },
  {
   "cell_type": "code",
   "execution_count": null,
   "id": "fce79c27",
   "metadata": {},
   "outputs": [],
   "source": [
    "## fusión de ambas:\n",
    "\n",
    "def producto(nombre):\n",
    "    productos = []\n",
    "    nombre_introducido = nombre.lower()\n",
    "    for producto in inventario:\n",
    "        if producto[\"nombre\"] == nombre:\n",
    "            precio_dolar = f\"${producto[\"precio\"]}\"\n",
    "            productos.append({\"Nombre\": producto[\"nombre\"],\n",
    "            \"Precio\": precio_dolar,  \n",
    "            \"Cantidad\": producto[\"cantidad\"]})\n",
    "            return productos\n",
    "        elif nombre_introducido in producto[\"nombre\"].lower():\n",
    "            precio_dolar = f\"${producto[\"precio\"]}\"\n",
    "            productos.append({\"Nombre\": producto[\"nombre\"],\n",
    "            \"Precio\": precio_dolar,  \n",
    "            \"Cantidad\": producto[\"cantidad\"]})\n",
    "            return (f\"quizás quiso decir {productos}\")\n",
    "    else:\n",
    "        return f\"producto {nombre} no encontrado\"\n",
    "           "
   ]
  },
  {
   "cell_type": "code",
   "execution_count": 84,
   "id": "43dd0d61",
   "metadata": {},
   "outputs": [
    {
     "data": {
      "text/plain": [
       "'producto arbol no encontrado'"
      ]
     },
     "execution_count": 84,
     "metadata": {},
     "output_type": "execute_result"
    }
   ],
   "source": [
    "producto(\"arbol\")"
   ]
  },
  {
   "cell_type": "code",
   "execution_count": 64,
   "id": "4ae7fb90",
   "metadata": {},
   "outputs": [],
   "source": [
    "## 4. actualizar_stock(nombre, cantidad)\n",
    "\n",
    "def actualizacion_stock(nombre, cantidad):\n",
    "    for producto in inventario: \n",
    "        if producto[\"nombre\"] == nombre:\n",
    "           producto[\"cantidad\"] += cantidad\n",
    "           return f\"stock de {nombre} actualizado\"\n",
    "            \n",
    "    else:\n",
    "        return f\"El producto {nombre} no está en el inventario\" ### cuidar la indentación del else o no habrá bucle :("
   ]
  },
  {
   "cell_type": "code",
   "execution_count": 85,
   "id": "a3ed807e",
   "metadata": {},
   "outputs": [
    {
     "data": {
      "text/plain": [
       "[{'nombre': 'camisa', 'precio': 15.5, 'cantidad': 10},\n",
       " {'nombre': 'bolso', 'precio': 10, 'cantidad': 25},\n",
       " {'nombre': 'pantalón', 'precio': 25.2, 'cantidad': 5}]"
      ]
     },
     "execution_count": 85,
     "metadata": {},
     "output_type": "execute_result"
    }
   ],
   "source": [
    "inventario"
   ]
  },
  {
   "cell_type": "code",
   "execution_count": 86,
   "id": "27bd981b",
   "metadata": {},
   "outputs": [
    {
     "data": {
      "text/plain": [
       "'stock de camisa actualizado'"
      ]
     },
     "execution_count": 86,
     "metadata": {},
     "output_type": "execute_result"
    }
   ],
   "source": [
    "actualizacion_stock(\"camisa\", 11)"
   ]
  },
  {
   "cell_type": "code",
   "execution_count": null,
   "id": "5ba8a190",
   "metadata": {},
   "outputs": [],
   "source": [
    "## con input:"
   ]
  },
  {
   "cell_type": "code",
   "execution_count": 68,
   "id": "76764214",
   "metadata": {},
   "outputs": [],
   "source": [
    "## 5. eliminar_producto(nombre)\n",
    "\n",
    "def eliminar_producto(nombre):\n",
    "    for producto in inventario: \n",
    "        if producto[\"nombre\"] == nombre:\n",
    "            inventario.remove(producto)\n",
    "            return f\"el producto {nombre} ha sido eliminado del inventario\"\n",
    "    \n",
    "    else:\n",
    "        return f\"producto no encontrado\""
   ]
  },
  {
   "cell_type": "code",
   "execution_count": 89,
   "id": "9eac9a7d",
   "metadata": {},
   "outputs": [
    {
     "data": {
      "text/plain": [
       "[{'nombre': 'camisa', 'precio': 15.5, 'cantidad': 21},\n",
       " {'nombre': 'bolso', 'precio': 10, 'cantidad': 25}]"
      ]
     },
     "execution_count": 89,
     "metadata": {},
     "output_type": "execute_result"
    }
   ],
   "source": [
    "inventario"
   ]
  },
  {
   "cell_type": "code",
   "execution_count": 88,
   "id": "40842b81",
   "metadata": {},
   "outputs": [
    {
     "data": {
      "text/plain": [
       "'el producto pantalón ha sido eliminado del inventario'"
      ]
     },
     "execution_count": 88,
     "metadata": {},
     "output_type": "execute_result"
    }
   ],
   "source": [
    "eliminar_producto(\"pantalón\")"
   ]
  },
  {
   "cell_type": "code",
   "execution_count": 90,
   "id": "003cb6c6",
   "metadata": {},
   "outputs": [],
   "source": [
    "## 6. calcular_valor_inventario()\n",
    "\n",
    "def calcular_valor_inventario():\n",
    "    for producto in inventario:\n",
    "        valor_total = sum(producto[\"cantidad\"]*producto[\"precio\"] for producto in inventario)\n",
    "       \n",
    "        return f\"El valor total del inventario es &{valor_total}\""
   ]
  },
  {
   "cell_type": "code",
   "execution_count": 91,
   "id": "8ae3c54d",
   "metadata": {},
   "outputs": [
    {
     "data": {
      "text/plain": [
       "'El valor total del inventario es &575.5'"
      ]
     },
     "execution_count": 91,
     "metadata": {},
     "output_type": "execute_result"
    }
   ],
   "source": [
    "calcular_valor_inventario()"
   ]
  },
  {
   "cell_type": "code",
   "execution_count": 92,
   "id": "ab199ed4",
   "metadata": {},
   "outputs": [],
   "source": [
    "inventario = [\n",
    "    {\"nombre\": \"camisa\", \"precio\": 15.5, \"cantidad\": 10},\n",
    "    {\"nombre\": \"bolso\", \"precio\": 10, \"cantidad\": 15},\n",
    "    {\"nombre\": \"pantalón\", \"precio\": 25.2, \"cantidad\": 5}\n",
    "]"
   ]
  },
  {
   "cell_type": "code",
   "execution_count": 93,
   "id": "9effef85",
   "metadata": {},
   "outputs": [],
   "source": [
    "## 7. realizar_compra()\n",
    "\n",
    "def realizar_compra(inventario):\n",
    "\n",
    "    carrito = []\n",
    "    total = 0.0\n",
    "    while True:\n",
    "        print(\"Inventaio disponible\")\n",
    "        for producto in inventario:\n",
    "            print (f\"{producto[\"nombre\"]} - ${producto[\"precio\"]} - Stock: {producto[\"cantidad\"]}\")\n",
    "\n",
    "        nombre_producto = input(\"Ingrese el nombre del producto que desea comprar (o salir para finalizar: \").strip().lower()\n",
    "\n",
    "        if nombre_producto == \"salir\":\n",
    "            break\n",
    "\n",
    "        producto_encontrado= []  ## tambien se podría usar if not producto_encontrado\n",
    "        for producto in inventario:\n",
    "            if producto[\"nombre\"].lower() == nombre_producto:\n",
    "                producto_encontrado = producto ## crear atajo a inventario para trabajar fuera del bucle for\n",
    "                break\n",
    "\n",
    "        if producto_encontrado == []:  ## si la lista producto_encontrado está vacía\n",
    "            print(\"producto no encontrado, intentelo nuevamente.\")\n",
    "            continue\n",
    "        if producto_encontrado[\"cantidad\"] == 0:\n",
    "            print(\"Lo sentimos, producto agotado.\")\n",
    "\n",
    "        try:\n",
    "            cantidad_deseada = int(input(f\"Ingrese la cantidad de {producto_encontrado[\"nombre\"]} que desea comprar:\"))\n",
    "        except ValueError:\n",
    "            print(\" Cantidad inválida. Intente de nuevo.\")\n",
    "            continue\n",
    "\n",
    "        carrito.append({\"nombre\": producto_encontrado[\"nombre\"],\n",
    "                        \"precio_unitario\": producto_encontrado[\"precio\"],\n",
    "                        \"cantidad\": cantidad_deseada,\n",
    "                        \"subtotal\": producto_encontrado[\"precio\"] * cantidad_deseada\n",
    "                        })\n",
    "        \n",
    "        producto_encontrado[\"cantidad\"] -= cantidad_deseada ## resto cantidad y cantidad deseada para actualizar inventario\n",
    "        print(f\"Se agregó {cantidad_deseada} x {producto_encontrado[\"nombre\"]} al carito\")\n",
    "\n",
    "    print(\"Resumen de compra\")\n",
    "    for item in carrito:\n",
    "        print(f\"{item[\"cantidad\"]} x {item[\"nombre\"]} - &{round(item[\"subtotal\"], 2)}\")\n",
    "        total += item[\"subtotal\"]\n",
    "\n",
    "    print(f\"Total a pagar: ${round(total, 2)}\")\n",
    "\n"
   ]
  },
  {
   "cell_type": "code",
   "execution_count": 75,
   "id": "62fc1c7b",
   "metadata": {},
   "outputs": [
    {
     "name": "stdout",
     "output_type": "stream",
     "text": [
      "Inventaio disponible\n",
      "camisa - $15.5 - Stock: 10\n",
      "bolso - $10 - Stock: 15\n",
      "pantalón - $25.2 - Stock: 5\n",
      "Resumen de compra\n",
      "Total a pagar: $0.0\n"
     ]
    }
   ],
   "source": [
    "realizar_compra(inventario)"
   ]
  }
 ],
 "metadata": {
  "kernelspec": {
   "display_name": "base",
   "language": "python",
   "name": "python3"
  },
  "language_info": {
   "codemirror_mode": {
    "name": "ipython",
    "version": 3
   },
   "file_extension": ".py",
   "mimetype": "text/x-python",
   "name": "python",
   "nbconvert_exporter": "python",
   "pygments_lexer": "ipython3",
   "version": "3.13.5"
  }
 },
 "nbformat": 4,
 "nbformat_minor": 5
}
