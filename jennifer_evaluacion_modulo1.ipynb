{
 "cells": [
  {
   "cell_type": "markdown",
   "id": "38eac884",
   "metadata": {},
   "source": [
    "## Evaluación Modulo 1 Data Analytics\n",
    "-------------------------------------"
   ]
  },
  {
   "cell_type": "markdown",
   "id": "fdcfd2c0",
   "metadata": {},
   "source": [
    "#### Estructura"
   ]
  },
  {
   "cell_type": "code",
   "execution_count": 85,
   "id": "6c12847e",
   "metadata": {},
   "outputs": [],
   "source": [
    "## 1. inventario (lista)\n",
    "\n",
    "inventario = []"
   ]
  },
  {
   "cell_type": "code",
   "execution_count": 9,
   "id": "285cfb64",
   "metadata": {},
   "outputs": [],
   "source": [
    "## 2. clientes (diccionario)\n",
    "\n",
    "clientes = {}"
   ]
  },
  {
   "cell_type": "code",
   "execution_count": 10,
   "id": "e4ecbd95",
   "metadata": {},
   "outputs": [],
   "source": [
    "## ventas_totales (float)\n",
    "\n",
    "ventas_totales = 0.0"
   ]
  },
  {
   "cell_type": "markdown",
   "id": "8f02ae1a",
   "metadata": {},
   "source": [
    "#### Funciones"
   ]
  },
  {
   "cell_type": "code",
   "execution_count": null,
   "id": "e5b53073",
   "metadata": {},
   "outputs": [],
   "source": [
    "## 1. agregar_producto (nombre, precio, cantidad)\n",
    "\n",
    "def agregar_producto(nombre, precio, cantidad): ## defino función\n",
    "    for producto in inventario: ## para un producto del inventario\n",
    "        if producto[\"nombre\"] == nombre:  #si el nombre del producto del inv. es igual al nbr del nuevo producto que le damos\n",
    "            producto[\"cantidad\"] += cantidad # la cantidad del prroducto del inv actualiza su cantidad sumando la del nuevo producto\n",
    "            return f\"inventario actualizado\" #nos retorna un mensaje de actualizado\n",
    "    \n",
    "    nuevo_producto = {\"nombre\": nombre,  # establecemos paametros del nuevo producto ¡¡¡si el bucle for de antes no dio resultado!!!\n",
    "                      \"precio\": precio,\n",
    "                      \"cantidad\": cantidad}\n",
    "    inventario.append(nuevo_producto) ## lo introducimos en el iccionario\n",
    "    return f\"producto correctamente añadido a inventario\" ## retorna mensaje\n"
   ]
  },
  {
   "cell_type": "code",
   "execution_count": 89,
   "id": "af660aa9",
   "metadata": {},
   "outputs": [
    {
     "data": {
      "text/plain": [
       "'producto correctamente añadido a inventario'"
      ]
     },
     "execution_count": 89,
     "metadata": {},
     "output_type": "execute_result"
    }
   ],
   "source": [
    "agregar_producto(\"camissa\", 20, 30)"
   ]
  },
  {
   "cell_type": "code",
   "execution_count": 90,
   "id": "d437a247",
   "metadata": {},
   "outputs": [
    {
     "data": {
      "text/plain": [
       "[{'nombre': 'pantalón', 'precio': 30, 'cantidad': 30},\n",
       " {'nombre': 'camissa', 'precio': 20, 'cantidad': 30}]"
      ]
     },
     "execution_count": 90,
     "metadata": {},
     "output_type": "execute_result"
    }
   ],
   "source": [
    "inventario"
   ]
  },
  {
   "cell_type": "code",
   "execution_count": null,
   "id": "dd5a6610",
   "metadata": {},
   "outputs": [],
   "source": [
    "## 2. ver_inventario()\n",
    "\n",
    "def ver_inventario():\n",
    "    inventario_total = [] #variable para volcar la nueva lista con strings\n",
    "    for producto in inventario:\n",
    "        precio_dolar = f\"${producto[\"precio\"]}\" #precio con string &\n",
    "        inventario_total.append({     ## introduces cada diccionario con sting en lista nueva\n",
    "            \"Nombre\": producto[\"nombre\"],\n",
    "            \"Precio\": precio_dolar,  #string + precio\n",
    "            \"Cantidad\": producto[\"cantidad\"]  \n",
    "        })\n",
    "    return inventario_total"
   ]
  },
  {
   "cell_type": "code",
   "execution_count": 116,
   "id": "7de7e962",
   "metadata": {},
   "outputs": [
    {
     "data": {
      "text/plain": [
       "[{'Nombre': 'pantalón', 'Precio': '$30', 'Cantidad': 30},\n",
       " {'Nombre': 'camissa', 'Precio': '$20', 'Cantidad': 30}]"
      ]
     },
     "execution_count": 116,
     "metadata": {},
     "output_type": "execute_result"
    }
   ],
   "source": [
    "ver_inventario()"
   ]
  },
  {
   "cell_type": "code",
   "execution_count": 126,
   "id": "92240a8b",
   "metadata": {},
   "outputs": [],
   "source": [
    "## 3. producto(nombre)\n",
    "\n",
    "def producto(nombre):\n",
    "    productos = []\n",
    "    for producto in inventario:\n",
    "        if producto[\"nombre\"] == nombre:\n",
    "            precio_dolar = f\"${producto[\"precio\"]}\"\n",
    "            productos.append({\"Nombre\": producto[\"nombre\"],\n",
    "            \"Precio\": precio_dolar,  \n",
    "            \"Cantidad\": producto[\"cantidad\"]})\n",
    "            return productos\n",
    "        else:\n",
    "            return f\"producto {nombre} no encontrado\"\n",
    "           \n",
    "\n",
    "\n"
   ]
  },
  {
   "cell_type": "code",
   "execution_count": 127,
   "id": "e1550f13",
   "metadata": {},
   "outputs": [
    {
     "data": {
      "text/plain": [
       "'producto pantaló no encontrado'"
      ]
     },
     "execution_count": 127,
     "metadata": {},
     "output_type": "execute_result"
    }
   ],
   "source": [
    "producto(\"pantaló\")"
   ]
  },
  {
   "cell_type": "code",
   "execution_count": 134,
   "id": "f19a064b",
   "metadata": {},
   "outputs": [],
   "source": [
    "## otra posibilidad buscando coincidencias parciales\n",
    "\n",
    "def producto(nombre):\n",
    "    productos = []\n",
    "    nombre_introducido = nombre.lower()\n",
    "    for producto in inventario:\n",
    "        if nombre_introducido in producto[\"nombre\"].lower():\n",
    "            precio_dolar = f\"${producto[\"precio\"]}\"\n",
    "            productos.append({\"Nombre\": producto[\"nombre\"],\n",
    "            \"Precio\": precio_dolar,  \n",
    "            \"Cantidad\": producto[\"cantidad\"]})\n",
    "            return productos\n",
    "        else:\n",
    "            return f\"producto {nombre} no encontrado\""
   ]
  },
  {
   "cell_type": "code",
   "execution_count": 138,
   "id": "7013ae92",
   "metadata": {},
   "outputs": [
    {
     "data": {
      "text/plain": [
       "[{'Nombre': 'pantalón', 'Precio': '$30', 'Cantidad': 30}]"
      ]
     },
     "execution_count": 138,
     "metadata": {},
     "output_type": "execute_result"
    }
   ],
   "source": [
    "producto(\"pant\")"
   ]
  },
  {
   "cell_type": "code",
   "execution_count": null,
   "id": "4ae7fb90",
   "metadata": {},
   "outputs": [],
   "source": [
    "## actualizar_stock(nombre, cantidad)\n",
    "\n"
   ]
  }
 ],
 "metadata": {
  "kernelspec": {
   "display_name": "base",
   "language": "python",
   "name": "python3"
  },
  "language_info": {
   "codemirror_mode": {
    "name": "ipython",
    "version": 3
   },
   "file_extension": ".py",
   "mimetype": "text/x-python",
   "name": "python",
   "nbconvert_exporter": "python",
   "pygments_lexer": "ipython3",
   "version": "3.13.5"
  }
 },
 "nbformat": 4,
 "nbformat_minor": 5
}
